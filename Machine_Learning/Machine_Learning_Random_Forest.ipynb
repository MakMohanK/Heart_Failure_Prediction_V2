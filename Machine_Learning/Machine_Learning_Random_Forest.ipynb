{
 "cells": [
  {
   "cell_type": "markdown",
   "id": "9549a82d-02eb-4925-b5eb-8a348b24310a",
   "metadata": {},
   "source": [
    "# Step 1: Import the necessary libraries"
   ]
  },
  {
   "cell_type": "markdown",
   "id": "a9ce3d2e-e2f4-462a-b9b3-8f805bd04ecf",
   "metadata": {},
   "source": [
    "# Step 1: Import the necessary libraries"
   ]
  },
  {
   "cell_type": "code",
   "execution_count": 21,
   "id": "369d89ed-fb44-409a-87d0-d128c15e455a",
   "metadata": {},
   "outputs": [],
   "source": [
    "import pandas as pd\n",
    "from sklearn.model_selection import train_test_split\n",
    "from sklearn.ensemble import RandomForestClassifier\n",
    "from sklearn.metrics import accuracy_score, classification_report, confusion_matrix\n"
   ]
  },
  {
   "cell_type": "markdown",
   "id": "f645715f-1b4e-4b1c-b652-fddaa2e3a626",
   "metadata": {},
   "source": [
    "# Step 2: Load the dataset"
   ]
  },
  {
   "cell_type": "markdown",
   "id": "c016e3e0-c5b0-48d9-b832-9c81e7ee62bf",
   "metadata": {},
   "source": [
    "# Step 2: Load the dataset"
   ]
  },
  {
   "cell_type": "code",
   "execution_count": 22,
   "id": "06a641a3-7008-40ee-8175-7bfed15e20bd",
   "metadata": {},
   "outputs": [
    {
     "name": "stdout",
     "output_type": "stream",
     "text": [
      "   Age  Gender  Weight  Height  Chest Pain Type  Heart Rate  \\\n",
      "0   68       0      73     170                3         107   \n",
      "1   81       0      74     173                2          98   \n",
      "2   58       0      84     178                0          90   \n",
      "3   44       0      51     142                1          69   \n",
      "4   72       1      71     147                0          89   \n",
      "\n",
      "   Systolic Blood Pressure  Diastolic Blood Pressure  Smoking  \\\n",
      "0                      124                        51        0   \n",
      "1                      112                        79        0   \n",
      "2                      120                       101        0   \n",
      "3                      140                        58        1   \n",
      "4                      109                        71        0   \n",
      "\n",
      "   Number of Cygrets Per Day  Diabetes  Anaemia  Any Past Heart Failures  \\\n",
      "0                          0         0        1                        1   \n",
      "1                          0         0        1                        1   \n",
      "2                          0         0        0                        1   \n",
      "3                         17         0        1                        1   \n",
      "4                          0         1        0                        0   \n",
      "\n",
      "   SpO2 Level  BPM  Heart Failure  \n",
      "0          79    1              1  \n",
      "1          75    1              1  \n",
      "2          94    0              0  \n",
      "3          99    2              0  \n",
      "4          91    2              0  \n"
     ]
    }
   ],
   "source": [
    "# Load the dataset\n",
    "data = pd.read_csv('./synthetic_heart_failure_data_with_conditions_v3.csv')\n",
    "#Desktop/Heart_Failure_Prediction/heart-failure-predictor/data/NEW_DATASET/heart.csv\n",
    "# Desktop/Heart_Failure_Prediction/heart-failure-predictor/synthetic_heart_failure_data_with_conditions_v3.csv\n",
    "\n",
    "# Display the first few rows\n",
    "print(data.head())\n"
   ]
  },
  {
   "cell_type": "markdown",
   "id": "ce619730-9fe4-412d-8d4a-b12228623936",
   "metadata": {},
   "source": [
    "# Step 3: Preprocess the data"
   ]
  },
  {
   "cell_type": "markdown",
   "id": "3741116f-5194-4354-8555-4485ff53e78f",
   "metadata": {},
   "source": [
    "# Step 3: Preprocess the data"
   ]
  },
  {
   "cell_type": "code",
   "execution_count": 23,
   "id": "3ff25446-360c-4388-88d4-293286680845",
   "metadata": {},
   "outputs": [
    {
     "name": "stdout",
     "output_type": "stream",
     "text": [
      "Age                          0\n",
      "Gender                       0\n",
      "Weight                       0\n",
      "Height                       0\n",
      "Chest Pain Type              0\n",
      "Heart Rate                   0\n",
      "Systolic Blood Pressure      0\n",
      "Diastolic Blood Pressure     0\n",
      "Smoking                      0\n",
      "Number of Cygrets Per Day    0\n",
      "Diabetes                     0\n",
      "Anaemia                      0\n",
      "Any Past Heart Failures      0\n",
      "SpO2 Level                   0\n",
      "BPM                          0\n",
      "Heart Failure                0\n",
      "dtype: int64\n"
     ]
    }
   ],
   "source": [
    "# Check for missing values\n",
    "print(data.isnull().sum())\n",
    "\n",
    "# Separate features and target variable\n",
    "X = data.drop(columns=['Heart Failure'])  # Replace 'target' with the actual column name representing the outcome\n",
    "y = data['Heart Failure']  # Replace 'target' with the actual column name\n",
    "\n",
    "# Split the dataset into training and testing sets\n",
    "X_train, X_test, y_train, y_test = train_test_split(X, y, test_size=0.2, random_state=42)\n"
   ]
  },
  {
   "cell_type": "markdown",
   "id": "8842f4df-f527-4586-bd50-bacb56eb7e9e",
   "metadata": {},
   "source": [
    "# Step 4: Train the Random Forest model"
   ]
  },
  {
   "cell_type": "markdown",
   "id": "d635420f-bff2-4736-bf6c-3ca391fb7d89",
   "metadata": {},
   "source": [
    "# Step 4: Train the Random Forest model"
   ]
  },
  {
   "cell_type": "code",
   "execution_count": 24,
   "id": "d7c37838-0b36-4743-b01d-53a4e0a88ec7",
   "metadata": {},
   "outputs": [
    {
     "data": {
      "text/html": [
       "<style>#sk-container-id-2 {color: black;}#sk-container-id-2 pre{padding: 0;}#sk-container-id-2 div.sk-toggleable {background-color: white;}#sk-container-id-2 label.sk-toggleable__label {cursor: pointer;display: block;width: 100%;margin-bottom: 0;padding: 0.3em;box-sizing: border-box;text-align: center;}#sk-container-id-2 label.sk-toggleable__label-arrow:before {content: \"▸\";float: left;margin-right: 0.25em;color: #696969;}#sk-container-id-2 label.sk-toggleable__label-arrow:hover:before {color: black;}#sk-container-id-2 div.sk-estimator:hover label.sk-toggleable__label-arrow:before {color: black;}#sk-container-id-2 div.sk-toggleable__content {max-height: 0;max-width: 0;overflow: hidden;text-align: left;background-color: #f0f8ff;}#sk-container-id-2 div.sk-toggleable__content pre {margin: 0.2em;color: black;border-radius: 0.25em;background-color: #f0f8ff;}#sk-container-id-2 input.sk-toggleable__control:checked~div.sk-toggleable__content {max-height: 200px;max-width: 100%;overflow: auto;}#sk-container-id-2 input.sk-toggleable__control:checked~label.sk-toggleable__label-arrow:before {content: \"▾\";}#sk-container-id-2 div.sk-estimator input.sk-toggleable__control:checked~label.sk-toggleable__label {background-color: #d4ebff;}#sk-container-id-2 div.sk-label input.sk-toggleable__control:checked~label.sk-toggleable__label {background-color: #d4ebff;}#sk-container-id-2 input.sk-hidden--visually {border: 0;clip: rect(1px 1px 1px 1px);clip: rect(1px, 1px, 1px, 1px);height: 1px;margin: -1px;overflow: hidden;padding: 0;position: absolute;width: 1px;}#sk-container-id-2 div.sk-estimator {font-family: monospace;background-color: #f0f8ff;border: 1px dotted black;border-radius: 0.25em;box-sizing: border-box;margin-bottom: 0.5em;}#sk-container-id-2 div.sk-estimator:hover {background-color: #d4ebff;}#sk-container-id-2 div.sk-parallel-item::after {content: \"\";width: 100%;border-bottom: 1px solid gray;flex-grow: 1;}#sk-container-id-2 div.sk-label:hover label.sk-toggleable__label {background-color: #d4ebff;}#sk-container-id-2 div.sk-serial::before {content: \"\";position: absolute;border-left: 1px solid gray;box-sizing: border-box;top: 0;bottom: 0;left: 50%;z-index: 0;}#sk-container-id-2 div.sk-serial {display: flex;flex-direction: column;align-items: center;background-color: white;padding-right: 0.2em;padding-left: 0.2em;position: relative;}#sk-container-id-2 div.sk-item {position: relative;z-index: 1;}#sk-container-id-2 div.sk-parallel {display: flex;align-items: stretch;justify-content: center;background-color: white;position: relative;}#sk-container-id-2 div.sk-item::before, #sk-container-id-2 div.sk-parallel-item::before {content: \"\";position: absolute;border-left: 1px solid gray;box-sizing: border-box;top: 0;bottom: 0;left: 50%;z-index: -1;}#sk-container-id-2 div.sk-parallel-item {display: flex;flex-direction: column;z-index: 1;position: relative;background-color: white;}#sk-container-id-2 div.sk-parallel-item:first-child::after {align-self: flex-end;width: 50%;}#sk-container-id-2 div.sk-parallel-item:last-child::after {align-self: flex-start;width: 50%;}#sk-container-id-2 div.sk-parallel-item:only-child::after {width: 0;}#sk-container-id-2 div.sk-dashed-wrapped {border: 1px dashed gray;margin: 0 0.4em 0.5em 0.4em;box-sizing: border-box;padding-bottom: 0.4em;background-color: white;}#sk-container-id-2 div.sk-label label {font-family: monospace;font-weight: bold;display: inline-block;line-height: 1.2em;}#sk-container-id-2 div.sk-label-container {text-align: center;}#sk-container-id-2 div.sk-container {/* jupyter's `normalize.less` sets `[hidden] { display: none; }` but bootstrap.min.css set `[hidden] { display: none !important; }` so we also need the `!important` here to be able to override the default hidden behavior on the sphinx rendered scikit-learn.org. See: https://github.com/scikit-learn/scikit-learn/issues/21755 */display: inline-block !important;position: relative;}#sk-container-id-2 div.sk-text-repr-fallback {display: none;}</style><div id=\"sk-container-id-2\" class=\"sk-top-container\"><div class=\"sk-text-repr-fallback\"><pre>RandomForestClassifier(random_state=42)</pre><b>In a Jupyter environment, please rerun this cell to show the HTML representation or trust the notebook. <br />On GitHub, the HTML representation is unable to render, please try loading this page with nbviewer.org.</b></div><div class=\"sk-container\" hidden><div class=\"sk-item\"><div class=\"sk-estimator sk-toggleable\"><input class=\"sk-toggleable__control sk-hidden--visually\" id=\"sk-estimator-id-2\" type=\"checkbox\" checked><label for=\"sk-estimator-id-2\" class=\"sk-toggleable__label sk-toggleable__label-arrow\">RandomForestClassifier</label><div class=\"sk-toggleable__content\"><pre>RandomForestClassifier(random_state=42)</pre></div></div></div></div></div>"
      ],
      "text/plain": [
       "RandomForestClassifier(random_state=42)"
      ]
     },
     "execution_count": 24,
     "metadata": {},
     "output_type": "execute_result"
    }
   ],
   "source": [
    "# Initialize the RandomForestClassifier\n",
    "rf_model = RandomForestClassifier(n_estimators=100, random_state=42)\n",
    "\n",
    "# Train the model\n",
    "rf_model.fit(X_train, y_train)\n"
   ]
  },
  {
   "cell_type": "markdown",
   "id": "2b8779fd-785d-49ed-814a-ebe04f647551",
   "metadata": {},
   "source": [
    "# Step 5: Make predictions and evaluate the model"
   ]
  },
  {
   "cell_type": "markdown",
   "id": "e26f617e-a0af-4e1a-b2a1-2187917e6530",
   "metadata": {},
   "source": [
    "# Step 5: Make predictions and evaluate the model"
   ]
  },
  {
   "cell_type": "code",
   "execution_count": 25,
   "id": "d1822579-4dbf-4df1-b3e2-f21ed984668f",
   "metadata": {},
   "outputs": [
    {
     "name": "stdout",
     "output_type": "stream",
     "text": [
      "Accuracy: 100.00%\n",
      "Classification Report:\n",
      "              precision    recall  f1-score   support\n",
      "\n",
      "           0       1.00      1.00      1.00       226\n",
      "           1       1.00      1.00      1.00        74\n",
      "\n",
      "    accuracy                           1.00       300\n",
      "   macro avg       1.00      1.00      1.00       300\n",
      "weighted avg       1.00      1.00      1.00       300\n",
      "\n",
      "Confusion Matrix:\n",
      "[[226   0]\n",
      " [  0  74]]\n"
     ]
    }
   ],
   "source": [
    "# Make predictions on the test set\n",
    "y_pred = rf_model.predict(X_test)\n",
    "\n",
    "# Evaluate the model\n",
    "accuracy = accuracy_score(y_test, y_pred)\n",
    "print(f'Accuracy: {accuracy * 100:.2f}%')\n",
    "\n",
    "# Display classification report and confusion matrix\n",
    "print('Classification Report:')\n",
    "print(classification_report(y_test, y_pred))\n",
    "\n",
    "print('Confusion Matrix:')\n",
    "print(confusion_matrix(y_test, y_pred))\n"
   ]
  },
  {
   "cell_type": "markdown",
   "id": "472a63f4-0dd4-45b2-a854-269ea3e559f9",
   "metadata": {},
   "source": [
    "# Step 6: Interpret the results"
   ]
  },
  {
   "cell_type": "markdown",
   "id": "319c1595-5ba1-48a0-b607-0a43d985d38f",
   "metadata": {},
   "source": [
    "# Step 6: Interpret the results"
   ]
  },
  {
   "cell_type": "code",
   "execution_count": 26,
   "id": "cfd9b1eb-3079-411e-bc38-7490291f3265",
   "metadata": {},
   "outputs": [
    {
     "name": "stdout",
     "output_type": "stream",
     "text": [
      "                      Feature  Importance\n",
      "12    Any Past Heart Failures    0.361712\n",
      "5                  Heart Rate    0.265873\n",
      "4             Chest Pain Type    0.153615\n",
      "2                      Weight    0.030371\n",
      "7    Diastolic Blood Pressure    0.030214\n",
      "13                 SpO2 Level    0.030101\n",
      "6     Systolic Blood Pressure    0.028553\n",
      "3                      Height    0.027620\n",
      "0                         Age    0.025531\n",
      "9   Number of Cygrets Per Day    0.017394\n",
      "14                        BPM    0.008726\n",
      "11                    Anaemia    0.006734\n",
      "10                   Diabetes    0.005475\n",
      "1                      Gender    0.004108\n",
      "8                     Smoking    0.003973\n"
     ]
    }
   ],
   "source": [
    "# Feature importance\n",
    "importances = rf_model.feature_importances_\n",
    "features = X.columns\n",
    "importance_df = pd.DataFrame({'Feature': features, 'Importance': importances})\n",
    "importance_df = importance_df.sort_values(by='Importance', ascending=False)\n",
    "\n",
    "# Display feature importance\n",
    "print(importance_df)\n"
   ]
  },
  {
   "cell_type": "markdown",
   "id": "f8702ee7-34f3-482d-8f2b-a3dde9d8dc7c",
   "metadata": {},
   "source": [
    "# Predict with single entry"
   ]
  },
  {
   "cell_type": "code",
   "execution_count": 28,
   "id": "5ff7c70f-f5bb-4f6b-b2a1-52e5462e4dd0",
   "metadata": {},
   "outputs": [
    {
     "name": "stdout",
     "output_type": "stream",
     "text": [
      "Predicted class: 0\n",
      "Prediction probabilities: [0.94 0.06]\n"
     ]
    },
    {
     "name": "stderr",
     "output_type": "stream",
     "text": [
      "/home/kalyan/.local/lib/python3.8/site-packages/sklearn/base.py:465: UserWarning: X does not have valid feature names, but RandomForestClassifier was fitted with feature names\n",
      "  warnings.warn(\n",
      "/home/kalyan/.local/lib/python3.8/site-packages/sklearn/base.py:465: UserWarning: X does not have valid feature names, but RandomForestClassifier was fitted with feature names\n",
      "  warnings.warn(\n"
     ]
    }
   ],
   "source": [
    "# Step 4: Predict a single entry\n",
    "import numpy as np\n",
    "\n",
    "single_entry = np.array([[82,0,54,149,2,61,137,96,1,21,1,1,1,73,1]])  # Example entry row 141\n",
    "# single_entry = np.array([[45,1,79,144,3,127,145,97,1,39,1,1,1,71,2]])  # Example entry row 155\n",
    "\n",
    "single_prediction = rf_model.predict(single_entry)\n",
    "single_prediction_proba = rf_model.predict_proba(single_entry)\n",
    "\n",
    "print(f\"Predicted class: {single_prediction[0]}\")\n",
    "print(f\"Prediction probabilities: {single_prediction_proba[0]}\")"
   ]
  },
  {
   "cell_type": "markdown",
   "id": "a53ca7ef-231d-4928-ad13-cc2594f1fd27",
   "metadata": {},
   "source": [
    "# Save the trained model"
   ]
  },
  {
   "cell_type": "code",
   "execution_count": 29,
   "id": "3eef2242-1931-4261-9544-905a858adb76",
   "metadata": {},
   "outputs": [
    {
     "name": "stdout",
     "output_type": "stream",
     "text": [
      "Model saved to random_forest_model_v2.pkl\n"
     ]
    }
   ],
   "source": [
    "import pickle\n",
    "model_filename = 'random_forest_model_v2.pkl'\n",
    "with open(model_filename, 'wb') as file:\n",
    "    pickle.dump(rf_model, file)\n",
    "\n",
    "print(f'Model saved to {model_filename}')"
   ]
  },
  {
   "cell_type": "code",
   "execution_count": null,
   "id": "dbfff1a5-3813-4b34-a70d-8aada6ba893d",
   "metadata": {},
   "outputs": [],
   "source": []
  }
 ],
 "metadata": {
  "kernelspec": {
   "display_name": "Python 3 (ipykernel)",
   "language": "python",
   "name": "python3"
  },
  "language_info": {
   "codemirror_mode": {
    "name": "ipython",
    "version": 3
   },
   "file_extension": ".py",
   "mimetype": "text/x-python",
   "name": "python",
   "nbconvert_exporter": "python",
   "pygments_lexer": "ipython3",
   "version": "3.8.10"
  }
 },
 "nbformat": 4,
 "nbformat_minor": 5
}
